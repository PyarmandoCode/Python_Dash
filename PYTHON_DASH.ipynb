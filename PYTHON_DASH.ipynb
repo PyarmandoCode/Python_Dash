{
 "cells": [
  {
   "cell_type": "code",
   "execution_count": null,
   "id": "7576e6b5",
   "metadata": {},
   "outputs": [],
   "source": [
    "pip install dash pandas"
   ]
  },
  {
   "cell_type": "code",
   "execution_count": 1,
   "id": "a60acd3b",
   "metadata": {},
   "outputs": [
    {
     "name": "stderr",
     "output_type": "stream",
     "text": [
      "C:\\Users\\Armando\\AppData\\Local\\Temp\\ipykernel_9940\\3202175932.py:2: UserWarning: \n",
      "The dash_core_components package is deprecated. Please replace\n",
      "`import dash_core_components as dcc` with `from dash import dcc`\n",
      "  import dash_core_components as dcc\n",
      "C:\\Users\\Armando\\AppData\\Local\\Temp\\ipykernel_9940\\3202175932.py:3: UserWarning: \n",
      "The dash_html_components package is deprecated. Please replace\n",
      "`import dash_html_components as html` with `from dash import html`\n",
      "  import dash_html_components as html\n"
     ]
    },
    {
     "data": {
      "text/html": [
       "\n",
       "        <iframe\n",
       "            width=\"100%\"\n",
       "            height=\"650\"\n",
       "            src=\"http://127.0.0.1:8050/\"\n",
       "            frameborder=\"0\"\n",
       "            allowfullscreen\n",
       "            \n",
       "        ></iframe>\n",
       "        "
      ],
      "text/plain": [
       "<IPython.lib.display.IFrame at 0x20cd7ae5ad0>"
      ]
     },
     "metadata": {},
     "output_type": "display_data"
    }
   ],
   "source": [
    "import dash\n",
    "import dash_core_components as dcc\n",
    "import dash_html_components as html\n",
    "from dash.dependencies import Input,Output\n",
    "\n",
    "app = dash.Dash(__name__)\n",
    "\n",
    "app.layout =html.Div([\n",
    "    html.H1(\"Hola Mundo desde DASH\"),\n",
    "    dcc.Input(id='input',value='Escribe Algo',type='text'),\n",
    "    html.Div(id='output')\n",
    "])\n",
    "\n",
    "@app.callback(\n",
    "    Output('output','children'),\n",
    "    [Input('input','value')]\n",
    ")\n",
    "\n",
    "def update_output(value):\n",
    "    return f'Has escrito: \"{value}\"'\n",
    "\n",
    "#Ejecutar la Aplicacion de Dash\n",
    "if __name__ == '__main__':\n",
    "    app.run_server(debug=True, use_reloader=False)\n",
    "\n"
   ]
  },
  {
   "cell_type": "code",
   "execution_count": 2,
   "id": "6b82e183",
   "metadata": {},
   "outputs": [
    {
     "data": {
      "text/html": [
       "\n",
       "        <iframe\n",
       "            width=\"100%\"\n",
       "            height=\"650\"\n",
       "            src=\"http://127.0.0.1:8050/\"\n",
       "            frameborder=\"0\"\n",
       "            allowfullscreen\n",
       "            \n",
       "        ></iframe>\n",
       "        "
      ],
      "text/plain": [
       "<IPython.lib.display.IFrame at 0x20cd7aec550>"
      ]
     },
     "metadata": {},
     "output_type": "display_data"
    }
   ],
   "source": [
    "app=dash.Dash(__name__)\n",
    "app.layout=html.Div([\n",
    "    dcc.Input(id='input' ,value ='Mundo' , type ='text'),\n",
    "    html.Div(id='output')\n",
    "])\n",
    "\n",
    "@app.callback(\n",
    "     Output('output','children'),\n",
    "     [Input('input','value')]\n",
    "\n",
    ")  \n",
    "def actualizar_saludo(input_value):\n",
    "           return f'Hola, {input_value}!'\n",
    "\n",
    "if __name__=='__main__':\n",
    "           app.run_server(debug=True)"
   ]
  },
  {
   "cell_type": "code",
   "execution_count": 3,
   "id": "6459c3e4",
   "metadata": {},
   "outputs": [
    {
     "name": "stderr",
     "output_type": "stream",
     "text": [
      "C:\\Users\\Armando\\AppData\\Local\\Temp\\ipykernel_9940\\3340313309.py:27: FutureWarning:\n",
      "\n",
      "Using short name for 'orient' is deprecated. Only the options: ('dict', list, 'series', 'split', 'records', 'index') will be used in a future version. Use one of the above to silence this warning.\n",
      "\n"
     ]
    },
    {
     "data": {
      "text/html": [
       "\n",
       "        <iframe\n",
       "            width=\"100%\"\n",
       "            height=\"650\"\n",
       "            src=\"http://127.0.0.1:8050/\"\n",
       "            frameborder=\"0\"\n",
       "            allowfullscreen\n",
       "            \n",
       "        ></iframe>\n",
       "        "
      ],
      "text/plain": [
       "<IPython.lib.display.IFrame at 0x20cdbd9c250>"
      ]
     },
     "metadata": {},
     "output_type": "display_data"
    }
   ],
   "source": [
    "import pandas as pd\n",
    "from dash import Dash,html,dash_table,dcc,callback,Output,Input\n",
    "import plotly.express as px\n",
    "\n",
    "#Traer la Informacion en un Dataframe\n",
    "\n",
    "df = pd.read_csv('https://raw.githubusercontent.com/plotly/datasets/master/gapminder2007.csv');\n",
    "\n",
    "estilos_online=[\"https://codepen.io/chriddyp/pen/bWLwgP.css\"]\n",
    "\n",
    "app=Dash(__name__,external_stylesheets=estilos_online)\n",
    "\n",
    "app.layout=html.Div([\n",
    "    html.Div(className='row',children=\"Mi Informacion a Filtrar\",\n",
    "             style={'textAlign':'center','color':'blue','fontsize':30}),\n",
    "    \n",
    "   \n",
    "    html.Div(className='row',children=[\n",
    "        dcc.RadioItems(options=['pop','lifeExp','gdpPercap'],\n",
    "                       value='lifeExp',\n",
    "                       inline=True,\n",
    "                       id='controls-and-radio-item')\n",
    "    ]),\n",
    "    \n",
    "   html.Div(className=\"row\",children=[\n",
    "        html.Div(className=\"six columns\",children=[\n",
    "            dash_table.DataTable(data=df.to_dict('Registros'),\n",
    "                                 page_size=10,\n",
    "                                 style_table={'overflowX':'auto'}\n",
    "                                )\n",
    "        ]),\n",
    "        html.Div(className=\"six columns\",children=[\n",
    "           dcc.Graph(figure={},id='controls-and-graph')\n",
    "        ])\n",
    "    ]),\n",
    "           \n",
    "    ])    \n",
    "\n",
    "@callback(\n",
    "    Output(component_id='controls-and-graph',component_property='figure'),\n",
    "    Input(component_id='controls-and-radio-item',component_property='value')\n",
    ")\n",
    "\n",
    "def update_graph(col_chosen):\n",
    "    fig=px.histogram(df,x='continent',y=col_chosen,histfunc='avg')\n",
    "    return fig\n",
    "                \n",
    "if __name__=='__main__':\n",
    "    app.run(debug=True)"
   ]
  },
  {
   "cell_type": "code",
   "execution_count": 4,
   "id": "cb2975d0",
   "metadata": {},
   "outputs": [
    {
     "data": {
      "text/html": [
       "\n",
       "        <iframe\n",
       "            width=\"100%\"\n",
       "            height=\"650\"\n",
       "            src=\"http://127.0.0.1:8050/\"\n",
       "            frameborder=\"0\"\n",
       "            allowfullscreen\n",
       "            \n",
       "        ></iframe>\n",
       "        "
      ],
      "text/plain": [
       "<IPython.lib.display.IFrame at 0x20cd7aee5d0>"
      ]
     },
     "metadata": {},
     "output_type": "display_data"
    }
   ],
   "source": [
    "from datetime import datetime\n",
    "app = dash.Dash(__name__)\n",
    "app.layout = html.Div([\n",
    "    dcc.DatePickerSingle(\n",
    "        id='date-picker',\n",
    "        date=datetime(2023,1,1)\n",
    "    ),\n",
    "    html.Div(id='output')\n",
    "])\n",
    "\n",
    "@app.callback(\n",
    "    Output('output','children'),\n",
    "    [Input('date-picker','date')]\n",
    ")\n",
    "\n",
    "def actualizar_fecha(selected_data):\n",
    "    return f'Fecha Seleccionada: {selected_data}'\n",
    "\n",
    "if __name__=='__main__':\n",
    "    app.run(debug=True)"
   ]
  },
  {
   "cell_type": "code",
   "execution_count": null,
   "id": "ce849d9d",
   "metadata": {},
   "outputs": [],
   "source": []
  },
  {
   "cell_type": "code",
   "execution_count": 5,
   "id": "6a9cc344",
   "metadata": {},
   "outputs": [
    {
     "name": "stderr",
     "output_type": "stream",
     "text": [
      "C:\\Users\\Armando\\AppData\\Local\\Temp\\ipykernel_9940\\1275538329.py:2: UserWarning:\n",
      "\n",
      "\n",
      "The dash_table package is deprecated. Please replace\n",
      "`import dash_table` with `from dash import dash_table`\n",
      "\n",
      "Also, if you're using any of the table format helpers (e.g. Group), replace \n",
      "`from dash_table.Format import Group` with \n",
      "`from dash.dash_table.Format import Group`\n",
      "\n",
      "C:\\Users\\Armando\\AppData\\Local\\Temp\\ipykernel_9940\\1275538329.py:18: FutureWarning:\n",
      "\n",
      "Using short name for 'orient' is deprecated. Only the options: ('dict', list, 'series', 'split', 'records', 'index') will be used in a future version. Use one of the above to silence this warning.\n",
      "\n"
     ]
    },
    {
     "data": {
      "text/html": [
       "\n",
       "        <iframe\n",
       "            width=\"100%\"\n",
       "            height=\"650\"\n",
       "            src=\"http://127.0.0.1:8050/\"\n",
       "            frameborder=\"0\"\n",
       "            allowfullscreen\n",
       "            \n",
       "        ></iframe>\n",
       "        "
      ],
      "text/plain": [
       "<IPython.lib.display.IFrame at 0x20cdd781c90>"
      ]
     },
     "metadata": {},
     "output_type": "display_data"
    },
    {
     "name": "stdout",
     "output_type": "stream",
     "text": [
      "\u001b[1;31m---------------------------------------------------------------------------\u001b[0m\n",
      "\u001b[1;31mUnboundLocalError\u001b[0m                         Traceback (most recent call last)\n",
      "\u001b[1;31mUnboundLocalError\u001b[0m: cannot access local variable 'datos_filtrados' where it is not associated with a value\n",
      "\n",
      "\u001b[1;31m---------------------------------------------------------------------------\u001b[0m\n",
      "\u001b[1;31mUnboundLocalError\u001b[0m                         Traceback (most recent call last)\n",
      "\u001b[1;31mUnboundLocalError\u001b[0m: cannot access local variable 'datos_filtrados' where it is not associated with a value\n",
      "\n",
      "\u001b[1;31m---------------------------------------------------------------------------\u001b[0m\n",
      "\u001b[1;31mUnboundLocalError\u001b[0m                         Traceback (most recent call last)\n",
      "\u001b[1;31mUnboundLocalError\u001b[0m: cannot access local variable 'datos_filtrados' where it is not associated with a value\n",
      "\n",
      "\u001b[1;31m---------------------------------------------------------------------------\u001b[0m\n",
      "\u001b[1;31mUnboundLocalError\u001b[0m                         Traceback (most recent call last)\n",
      "\u001b[1;31mUnboundLocalError\u001b[0m: cannot access local variable 'datos_filtrados' where it is not associated with a value\n",
      "\n",
      "\u001b[1;31m---------------------------------------------------------------------------\u001b[0m\n",
      "\u001b[1;31mUnboundLocalError\u001b[0m                         Traceback (most recent call last)\n",
      "\u001b[1;31mUnboundLocalError\u001b[0m: cannot access local variable 'datos_filtrados' where it is not associated with a value\n",
      "\n"
     ]
    }
   ],
   "source": [
    "import dash\n",
    "import dash_table\n",
    "import dash_core_components as dcc\n",
    "import dash_html_components as html\n",
    "import dash_table\n",
    "from dash.dependencies import Input, Output\n",
    "import pandas as pd\n",
    "\n",
    "app= dash.Dash(__name__)\n",
    "\n",
    "df = pd.DataFrame({'Nombre':['Alice','Bob','Armando','Susana'],'Edad':[25,30,22,38]})\n",
    "\n",
    "app.layout= html.Div([\n",
    "    dcc.Input(id='filtro-nombre',placeholder='Filtrar por Nombre',type='text'),\n",
    "    dash_table.DataTable(\n",
    "        id='tabla',\n",
    "        columns=[{'name':col,'id':col} for col in df.columns],\n",
    "        data = df.to_dict('registros')\n",
    "      )\n",
    "])\n",
    "\n",
    "@app.callback(\n",
    "    Output('tabla' ,'data'),\n",
    "    [Input('filtro-nombre','value')]\n",
    "\n",
    ")\n",
    "\n",
    "def filtar_datos(nombre_filtro):\n",
    "    if nombre_filtro:\n",
    "        datos_filtrados=df[df['Nombre'].str.contains(nombre_filtro,case=False)]\n",
    "    else:\n",
    "        datos_filtrado=df\n",
    "    return datos_filtrados.to_dict('registros')    \n",
    "\n",
    "if __name__=='__main__':\n",
    "    app.run(debug=True)"
   ]
  },
  {
   "cell_type": "code",
   "execution_count": null,
   "id": "81a74894",
   "metadata": {},
   "outputs": [],
   "source": [
    "pip install psycopg2"
   ]
  },
  {
   "cell_type": "code",
   "execution_count": null,
   "id": "e6d49ed4",
   "metadata": {},
   "outputs": [],
   "source": [
    "import psycopg2\n",
    "#Conexion a la Base de datos de Postgress\n",
    "conn = psycopg2.connect(\n",
    "    database=\"bdcarsales\",\n",
    "    user=\"admin\",\n",
    "    password=\"admin\",\n",
    "    host=\"localhost\",  # Cambia esto si tu base de datos está en otro lugar\n",
    "    port=\"5432\"         # Cambia el puerto si es diferente\n",
    ")\n",
    "#Consulta SQL para Obtener datos de lA bASE DE DATOS\n",
    "\n",
    "query = 'SELECT * FROM autos';\n",
    "#Obtener datos en un Dataframe de Pandas\n",
    "df = pd.read_sql_query(query,conn)\n",
    "df"
   ]
  },
  {
   "cell_type": "code",
   "execution_count": null,
   "id": "b4a7fecf",
   "metadata": {},
   "outputs": [],
   "source": []
  }
 ],
 "metadata": {
  "kernelspec": {
   "display_name": "Python 3 (ipykernel)",
   "language": "python",
   "name": "python3"
  },
  "language_info": {
   "codemirror_mode": {
    "name": "ipython",
    "version": 3
   },
   "file_extension": ".py",
   "mimetype": "text/x-python",
   "name": "python",
   "nbconvert_exporter": "python",
   "pygments_lexer": "ipython3",
   "version": "3.11.4"
  }
 },
 "nbformat": 4,
 "nbformat_minor": 5
}
